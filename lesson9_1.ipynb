{
 "cells": [
  {
   "cell_type": "code",
   "execution_count": 32,
   "metadata": {},
   "outputs": [
    {
     "name": "stdout",
     "output_type": "stream",
     "text": [
      "Rachell\n",
      "78\n",
      "92\n",
      "91\n"
     ]
    }
   ],
   "source": [
    "#使用dictionary建立一筆資料\n",
    "#建立dict的實體\n",
    "\n",
    "student:dict[str,any] = {\n",
    "    'name':'Rachell',\n",
    "    '國文':78,\n",
    "    '英文':92,\n",
    "    '數學':91\n",
    " }\n",
    "\n",
    "print(student['name'])\n",
    "print(student['國文'])\n",
    "print(student['英文'])\n",
    "print(student['數學'])"
   ]
  },
  {
   "cell_type": "code",
   "execution_count": 33,
   "metadata": {},
   "outputs": [
    {
     "name": "stdout",
     "output_type": "stream",
     "text": [
      "<class 'str'>\n",
      "key=name\n",
      "value=Rachell\n",
      "======\n",
      "<class 'str'>\n",
      "key=國文\n",
      "value=78\n",
      "======\n",
      "<class 'str'>\n",
      "key=英文\n",
      "value=92\n",
      "======\n",
      "<class 'str'>\n",
      "key=數學\n",
      "value=91\n",
      "======\n"
     ]
    }
   ],
   "source": [
    "student:dict[str,any] = {\n",
    "    'name':'Rachell',\n",
    "    '國文':78,\n",
    "    '英文':92,\n",
    "    '數學':91\n",
    " }\n",
    "\n",
    "for key in student:\n",
    "    print(type(key))\n",
    "    print(f'key={key}')\n",
    "    print(f'value={student[key]}')\n",
    "    print(\"======\")"
   ]
  },
  {
   "cell_type": "code",
   "execution_count": 34,
   "metadata": {},
   "outputs": [
    {
     "name": "stdout",
     "output_type": "stream",
     "text": [
      "10\n",
      "20\n",
      "30\n"
     ]
    }
   ],
   "source": [
    "#建立list實體\n",
    "\n",
    "values:list[int]= [10, 20, 30]\n",
    "print(values[0])\n",
    "print(values[1])\n",
    "print(values[2])"
   ]
  },
  {
   "cell_type": "code",
   "execution_count": 35,
   "metadata": {},
   "outputs": [
    {
     "name": "stdout",
     "output_type": "stream",
     "text": [
      "10\n",
      "20\n",
      "30\n"
     ]
    }
   ],
   "source": [
    "values:list[int]= [10, 20, 30]\n",
    "for value in values:\n",
    "    print(value)"
   ]
  },
  {
   "cell_type": "code",
   "execution_count": 36,
   "metadata": {},
   "outputs": [
    {
     "name": "stdout",
     "output_type": "stream",
     "text": [
      "404\n",
      "沒有頁面發現\n"
     ]
    }
   ],
   "source": [
    "#tupe的拆解法\n",
    "code, error = 404, '沒有頁面發現'\n",
    "print(code)\n",
    "print(error)"
   ]
  },
  {
   "cell_type": "code",
   "execution_count": 37,
   "metadata": {},
   "outputs": [
    {
     "name": "stdout",
     "output_type": "stream",
     "text": [
      "索引編號:0\n",
      "值是:10\n",
      "======\n",
      "索引編號:1\n",
      "值是:20\n",
      "======\n",
      "索引編號:2\n",
      "值是:30\n",
      "======\n"
     ]
    }
   ],
   "source": [
    "values:list[int]=[10, 20, 30]\n",
    "for idx, value in enumerate(values):\n",
    "    print(f'索引編號:{idx}')\n",
    "    print(f'值是:{value}')\n",
    "    print('======')"
   ]
  },
  {
   "cell_type": "code",
   "execution_count": 38,
   "metadata": {},
   "outputs": [
    {
     "name": "stdout",
     "output_type": "stream",
     "text": [
      "name\n",
      "Rachell\n",
      "======\n",
      "國文\n",
      "78\n",
      "======\n",
      "英文\n",
      "92\n",
      "======\n",
      "數學\n",
      "91\n",
      "======\n"
     ]
    }
   ],
   "source": [
    "student:dict[str,any] = {\n",
    "    'name':'Rachell',\n",
    "    '國文':78,\n",
    "    '英文':92,\n",
    "    '數學':91\n",
    " }\n",
    "\n",
    "\n",
    "for key,value in student.items():\n",
    "    print(key)\n",
    "    print(value)\n",
    "    print('======')"
   ]
  },
  {
   "cell_type": "code",
   "execution_count": 42,
   "metadata": {},
   "outputs": [
    {
     "name": "stdout",
     "output_type": "stream",
     "text": [
      "key=name, value=Rachell\n",
      "key=國文, value=78\n",
      "key=英文, value=92\n",
      "key=數學, value=91\n",
      "======\n",
      "key=name, value=Richell\n",
      "key=國文, value=78\n",
      "key=英文, value=92\n",
      "key=數學, value=91\n",
      "======\n",
      "key=name, value=Rose\n",
      "key=國文, value=78\n",
      "key=英文, value=92\n",
      "key=數學, value=91\n",
      "======\n"
     ]
    }
   ],
   "source": [
    "students:list[dict] = [\n",
    "    {'name':'Rachell','國文':78,'英文':92,'數學':91},\n",
    "    {'name':'Richell','國文':78,'英文':92,'數學':91},\n",
    "    {'name':'Rose','國文':78,'英文':92,'數學':91}\n",
    "]\n",
    "\n",
    "for student in students:\n",
    "    for key,value in student.items():\n",
    "        print(f'key={key}, value={value}')\n",
    "    print('======')"
   ]
  }
 ],
 "metadata": {
  "kernelspec": {
   "display_name": "Python 3",
   "language": "python",
   "name": "python3"
  },
  "language_info": {
   "codemirror_mode": {
    "name": "ipython",
    "version": 3
   },
   "file_extension": ".py",
   "mimetype": "text/x-python",
   "name": "python",
   "nbconvert_exporter": "python",
   "pygments_lexer": "ipython3",
   "version": "3.10.13"
  }
 },
 "nbformat": 4,
 "nbformat_minor": 2
}
