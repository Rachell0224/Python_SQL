{
 "cells": [
  {
   "cell_type": "code",
   "execution_count": 4,
   "metadata": {},
   "outputs": [
    {
     "data": {
      "text/plain": [
       "psycopg2.extensions.connection"
      ]
     },
     "execution_count": 4,
     "metadata": {},
     "output_type": "execute_result"
    }
   ],
   "source": [
    "import psycopg2\n",
    "import os\n",
    "from psycopg2 import connect\n",
    "from dotenv import load_dotenv\n",
    "\n",
    "#初始化環境變數\n",
    "load_dotenv()\n",
    "\n",
    "#使用環境變數POSTGRE_PASSWORD,取得密碼,並建立connect的實體\n",
    "conn:connect = psycopg2.connect(os.environ['POSTGRE_PASSWORD'])\n",
    "type(conn)"
   ]
  },
  {
   "cell_type": "code",
   "execution_count": 15,
   "metadata": {},
   "outputs": [],
   "source": [
    "#使用環境變數POSTGRE_PASSWORD,取得密碼,並建立connect的實體\n",
    "conn:connect = psycopg2.connect(os.environ['POSTGRE_PASSWORD'])\n",
    "\n",
    "#建立cursor實體, 準備執行SQL\n",
    "cur = conn.cursor()\n",
    "\n",
    "sql = '''\n",
    "CREATE TABLE IF NOT EXISTS student(\n",
    "    id SERIAL PRIMARY KEY,\n",
    "    name VARCHAR(20),\n",
    "    chinese SMALLINT,\n",
    "    english SMALLINT,\n",
    "    math SMALLINT\n",
    ")\n",
    "'''\n",
    "#執行sql\n",
    "cur.execute(sql)\n",
    "\n",
    "#確認SQL可執行\n",
    "conn.commit()\n",
    "\n",
    "#關閉cursor\n",
    "cur.close()\n",
    "\n",
    "#關閉連線\n",
    "conn.close()"
   ]
  },
  {
   "cell_type": "code",
   "execution_count": 10,
   "metadata": {},
   "outputs": [],
   "source": [
    "#使用環境變數POSTGRE_PASSWORD,取得密碼,並建立connect的實體\n",
    "conn:connect = psycopg2.connect(os.environ['POSTGRE_PASSWORD'])\n",
    "\n",
    "#建立cursor實體, 準備執行SQL\n",
    "cur = conn.cursor()\n",
    "\n",
    "sql = '''\n",
    "INSERT INTO student(name,chinese,english,math)\n",
    "VALUES('Rachell',60,72,85);\n",
    "'''\n",
    "#執行sql\n",
    "cur.execute(sql)\n",
    "\n",
    "#確認SQL可執行\n",
    "conn.commit()\n",
    "\n",
    "#關閉cursor\n",
    "cur.close()\n",
    "\n",
    "#關閉連線\n",
    "conn.close()"
   ]
  },
  {
   "cell_type": "code",
   "execution_count": 11,
   "metadata": {},
   "outputs": [
    {
     "name": "stdout",
     "output_type": "stream",
     "text": [
      "[(1, 'Rachell', 60, 72, 85), (2, 'Rachell', 60, 72, 85)]\n"
     ]
    }
   ],
   "source": [
    "#使用環境變數POSTGRE_PASSWORD,取得密碼,並建立connect的實體\n",
    "conn:connect = psycopg2.connect(os.environ['POSTGRE_PASSWORD'])\n",
    "\n",
    "#建立cursor實體, 準備執行SQL\n",
    "cur = conn.cursor()\n",
    "\n",
    "sql = '''\n",
    "SELECT *\n",
    "FROM student;\n",
    "'''\n",
    "#執行sql\n",
    "cur.execute(sql)\n",
    "\n",
    "#取得資料\n",
    "print(cur.fetchall())\n",
    "\n",
    "#確認SQL可執行\n",
    "conn.commit()\n",
    "\n",
    "#關閉cursor\n",
    "cur.close()\n",
    "\n",
    "#關閉連線\n",
    "conn.close()"
   ]
  },
  {
   "cell_type": "code",
   "execution_count": 13,
   "metadata": {},
   "outputs": [],
   "source": [
    "##刪除表格\n",
    "#使用環境變數POSTGRE_PASSWORD,取得密碼,並建立connect的實體\n",
    "conn:connect = psycopg2.connect(os.environ['POSTGRE_PASSWORD'])\n",
    "\n",
    "#建立cursor實體, 準備執行SQL\n",
    "cur = conn.cursor()\n",
    "\n",
    "sql = '''\n",
    "DROP TABLE IF EXISTS student \n",
    "'''\n",
    "#執行sql\n",
    "cur.execute(sql)\n",
    "\n",
    "#確認SQL可執行\n",
    "conn.commit()\n",
    "\n",
    "#關閉cursor\n",
    "cur.close()\n",
    "\n",
    "#關閉連線\n",
    "conn.close()\n"
   ]
  },
  {
   "cell_type": "code",
   "execution_count": 16,
   "metadata": {},
   "outputs": [],
   "source": [
    "#使用環境變數POSTGRE_PASSWORD,取得密碼,並建立connect的實體\n",
    "conn:connect = psycopg2.connect(os.environ['POSTGRE_PASSWORD'])\n",
    "\n",
    "#建立cursor實體, 準備執行SQL\n",
    "cur = conn.cursor()\n",
    "\n",
    "sql = '''\n",
    "INSERT INTO student(name,chinese,english,math)\n",
    "VALUES(%s,%s,%s,%s);\n",
    "'''\n",
    "#執行sql\n",
    "cur.execute(sql,('Rachell',78,65,73))\n",
    "\n",
    "#確認SQL可執行\n",
    "conn.commit()\n",
    "\n",
    "#關閉cursor\n",
    "cur.close()\n",
    "\n",
    "#關閉連線\n",
    "conn.close()"
   ]
  },
  {
   "cell_type": "code",
   "execution_count": null,
   "metadata": {},
   "outputs": [],
   "source": [
    "#使用環境變數POSTGRE_PASSWORD,取得密碼,並建立connect的實體\n",
    "conn:connect = psycopg2.connect(os.environ['POSTGRE_PASSWORD'])\n",
    "\n",
    "#建立cursor實體, 準備執行SQL\n",
    "cur = conn.cursor()\n",
    "\n",
    "sql = '''\n",
    "INSERT INTO student(name,chinese,english,math)\n",
    "VALUES(%(name)s,%(chinese)s,%(english)s,%(math)s);\n",
    "'''\n",
    "#執行sql\n",
    "cur.execute(sql,{'name':'Rachell', 'chinese':89, 'english':65,'math':78})\n",
    "\n",
    "#確認SQL可執行\n",
    "conn.commit()\n",
    "\n",
    "#關閉cursor\n",
    "cur.close()\n",
    "\n",
    "#關閉連線\n",
    "conn.close()"
   ]
  }
 ],
 "metadata": {
  "kernelspec": {
   "display_name": "Python 3",
   "language": "python",
   "name": "python3"
  },
  "language_info": {
   "codemirror_mode": {
    "name": "ipython",
    "version": 3
   },
   "file_extension": ".py",
   "mimetype": "text/x-python",
   "name": "python",
   "nbconvert_exporter": "python",
   "pygments_lexer": "ipython3",
   "version": "3.10.13"
  }
 },
 "nbformat": 4,
 "nbformat_minor": 2
}
